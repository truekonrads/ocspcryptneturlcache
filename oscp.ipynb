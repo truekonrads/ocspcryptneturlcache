{
 "cells": [
  {
   "cell_type": "code",
   "execution_count": 28,
   "metadata": {},
   "outputs": [],
   "source": [
    "from cryptography.x509 import ocsp\n",
    "from cryptography.x509.oid import ExtensionOID\n",
    "import cryptography\n",
    "from cryptography import x509\n",
    "from cryptography.hazmat.backends import default_backend\n",
    "import base64\n",
    "import subprocess\n",
    "from urllib.parse import urlparse,unquote\n",
    "from cryptography.x509.oid import ExtensionOID\n",
    "import requests\n",
    "from bs4 import BeautifulSoup"
   ]
  },
  {
   "cell_type": "code",
   "execution_count": 23,
   "metadata": {},
   "outputs": [],
   "source": [
    "def get_serial_from_url(url):    \n",
    "    path=unquote(urlparse(url).path.split('/')[-1])\n",
    "    # print(path)\n",
    "    data = base64.b64decode(path)\n",
    "    x=ocsp.load_der_ocsp_request(data)\n",
    "    return hex(x.serial_number)[2:].upper()\n",
    "\n",
    "def get_names_from_cert(cert):\n",
    "    # Assuming 'cert' is your loaded certificate\n",
    "    try:\n",
    "        # Get the SAN extension from the certificate\n",
    "        san_extension = cert.extensions.get_extension_for_oid(ExtensionOID.SUBJECT_ALTERNATIVE_NAME)\n",
    "        san_names = san_extension.value\n",
    "\n",
    "        # Extract the SANs as strings\n",
    "        san_list = []\n",
    "        for name in san_names:\n",
    "            if isinstance(name, cryptography.x509.DNSName):\n",
    "                san_list.append(name.value)\n",
    "            elif isinstance(name, cryptography.x509.IPAddress):\n",
    "                san_list.append(str(name.value))\n",
    "            # Include additional types as necessary, e.g., EmailAddress, URI, etc.\n",
    "\n",
    "    except cryptography.x509.ExtensionNotFound:\n",
    "        # Handle the case where the SAN extension is not present\n",
    "        san_list = []\n",
    "    subject=cert.subject.rfc4514_string()\n",
    "    if subject.startswith(\"CN=\"):\n",
    "        subject=subject[3:].split(\",\")[0]\n",
    "    san_list.append(subject)\n",
    "    return list(set(san_list))\n",
    "    \n",
    "def ask_crt_sh(sn:str)->list[x509.Certificate]:\n",
    "    url=f\"https://crt.sh/?serial={sn}&match=%3D&deduplicate=Y\"\n",
    "    list_of_certs=requests.get(url)\n",
    "    bs=BeautifulSoup(list_of_certs.text)\n",
    "    try:\n",
    "        cert_rows=bs.findAll('table')[2].findAll('tr')[1:]\n",
    "    except IndexError:\n",
    "        return []\n",
    "    certs=[]\n",
    "    for tr in cert_rows:\n",
    "        cert_id=tr.findAll('td')[0].text\n",
    "        url=f\"https://crt.sh/?d={cert_id}\"\n",
    "        # print(url)\n",
    "        pem_data=requests.get(url).text.encode('utf8')\n",
    "        cert = x509.load_pem_x509_certificate(pem_data, default_backend())\n",
    "        certs.append(cert)\n",
    "    return certs"
   ]
  },
  {
   "cell_type": "code",
   "execution_count": 44,
   "metadata": {},
   "outputs": [
    {
     "data": {
      "text/plain": [
       "'148903DC28ABCA7A1194D0C1C57B829'"
      ]
     },
     "execution_count": 44,
     "metadata": {},
     "output_type": "execute_result"
    }
   ],
   "source": [
    "get_serial_from_url(\"http://ocsp.globalsign.com/ca/gstsacasha384g4/MFEwTzBNMEswSTAJBgUrDgMCGgUABBS2enBWzCNkWKN%2FFhoLZmlPnDczoAQU6hbGaefjy1dFOTOk8EC%2B0MO9ZZYCEAFIkD3CirynoRlNDBxXuCk%3D\")"
   ]
  },
  {
   "cell_type": "code",
   "execution_count": 42,
   "metadata": {},
   "outputs": [],
   "source": [
    "out=subprocess.run('certutil -urlcache',shell=True,universal_newlines=True,capture_output=True)\n",
    "urls=[x for x in out.stdout.split(\"\\n\\n\") if \"/MF\" in x and x.startswith('http')]"
   ]
  },
  {
   "cell_type": "code",
   "execution_count": 43,
   "metadata": {},
   "outputs": [
    {
     "name": "stdout",
     "output_type": "stream",
     "text": [
      "https://crt.sh/?d=924467853\n",
      "['Sectigo RSA Code Signing CA,O=Sectigo Limited,L=Salford,ST=Greater Manchester,C=GB'] 1DA248306F9B2618D082E0967D33D36A http://ocsp.usertrust.com/MFEwTzBNMEswSTAJBgUrDgMCGgUABBTNMNJMNDqCqx8FcBWK16EHdimS6QQUU3m%2FWqorSs9UgOHYm8Cd8rIDZssCEB2iSDBvmyYY0ILgln0z02o%3D\n",
      "https://crt.sh/?d=12151918068\n",
      "https://crt.sh/?d=12151920132\n",
      "['cache6-sgp1.steamcontent.com'] 3CE8257ABD19291BD0B6E24559E670265BE http://r3.o.lencr.org/MFMwUTBPME0wSzAJBgUrDgMCGgUABBRI2smg%2ByvTLU%2Fw3mjS9We3NfmzxAQUFC6zF7dYVsuuUAlA5h%2BvnYsUwsYCEgPOgler0ZKRvQtuJFWeZwJlvg%3D%3D\n",
      "['cache6-sgp1.steamcontent.com'] 3CE8257ABD19291BD0B6E24559E670265BE http://r3.o.lencr.org/MFMwUTBPME0wSzAJBgUrDgMCGgUABBRI2smg%2ByvTLU%2Fw3mjS9We3NfmzxAQUFC6zF7dYVsuuUAlA5h%2BvnYsUwsYCEgPOgler0ZKRvQtuJFWeZwJlvg%3D%3D\n",
      "https://crt.sh/?d=4267304700\n",
      "['Sectigo Public Code Signing CA R36,O=Sectigo Limited,C=GB'] 621D6D0C52019E3B9079152089211C0A http://ocsp.sectigo.com/MFEwTzBNMEswSTAJBgUrDgMCGgUABBSdE3gf41WAic8Uh9lF92%2BIJqh5qwQUMuuSmv81lkgvKEBCcCA2kVwXheYCEGIdbQxSAZ47kHkVIIkhHAo%3D\n",
      "https://crt.sh/?d=3001951960\n",
      "['GTS Root R1,O=Google Trust Services LLC,C=US'] 77BD0D6CDB36F91AEA210FC4F058D30D http://ocsp.pki.goog/gsr1/MFEwTzBNMEswSTAJBgUrDgMCGgUABBS3V7W2nAf4FiMTjpDJKg6%2BMgGqMQQUYHtmGkUNl8qJUC99BM00qP%2F8%2FUsCEHe9DWzbNvka6iEPxPBY0w0%3D\n",
      "https://crt.sh/?d=12028715149\n",
      "https://crt.sh/?d=12028711023\n",
      "['client-update.akamai.steamstatic.com', 'client-update.steamstatic.com'] 4836556C7CCC70F761C500DD85D341D9F74 http://r3.o.lencr.org/MFMwUTBPME0wSzAJBgUrDgMCGgUABBRI2smg%2ByvTLU%2Fw3mjS9We3NfmzxAQUFC6zF7dYVsuuUAlA5h%2BvnYsUwsYCEgSDZVbHzMcPdhxQDdhdNB2fdA%3D%3D\n",
      "['client-update.akamai.steamstatic.com', 'client-update.steamstatic.com'] 4836556C7CCC70F761C500DD85D341D9F74 http://r3.o.lencr.org/MFMwUTBPME0wSzAJBgUrDgMCGgUABBRI2smg%2ByvTLU%2Fw3mjS9We3NfmzxAQUFC6zF7dYVsuuUAlA5h%2BvnYsUwsYCEgSDZVbHzMcPdhxQDdhdNB2fdA%3D%3D\n",
      "https://crt.sh/?d=11826910767\n",
      "https://crt.sh/?d=11826905282\n",
      "['cache10-sgp1.steamcontent.com'] 3649559E9D96B9DB9C81A500DC89EF6F55A http://r3.o.lencr.org/MFMwUTBPME0wSzAJBgUrDgMCGgUABBRI2smg%2ByvTLU%2Fw3mjS9We3NfmzxAQUFC6zF7dYVsuuUAlA5h%2BvnYsUwsYCEgNklVnp2WuducgaUA3Invb1Wg%3D%3D\n",
      "['cache10-sgp1.steamcontent.com'] 3649559E9D96B9DB9C81A500DC89EF6F55A http://r3.o.lencr.org/MFMwUTBPME0wSzAJBgUrDgMCGgUABBRI2smg%2ByvTLU%2Fw3mjS9We3NfmzxAQUFC6zF7dYVsuuUAlA5h%2BvnYsUwsYCEgNklVnp2WuducgaUA3Invb1Wg%3D%3D\n",
      "https://crt.sh/?d=12011453729\n",
      "https://crt.sh/?d=12011453260\n",
      "['1password.com', 'www.1password.com'] 4BB81D3BBC027D2B293A0B9EB1A813E6247 http://r3.o.lencr.org/MFMwUTBPME0wSzAJBgUrDgMCGgUABBRI2smg%2ByvTLU%2Fw3mjS9We3NfmzxAQUFC6zF7dYVsuuUAlA5h%2BvnYsUwsYCEgS7gdO7wCfSspOguesagT5iRw%3D%3D\n",
      "['1password.com', 'www.1password.com'] 4BB81D3BBC027D2B293A0B9EB1A813E6247 http://r3.o.lencr.org/MFMwUTBPME0wSzAJBgUrDgMCGgUABBRI2smg%2ByvTLU%2Fw3mjS9We3NfmzxAQUFC6zF7dYVsuuUAlA5h%2BvnYsUwsYCEgS7gdO7wCfSspOguesagT5iRw%3D%3D\n"
     ]
    },
    {
     "name": "stderr",
     "output_type": "stream",
     "text": [
      "Traceback (most recent call last):\n",
      "  File \"C:\\Users\\admin\\AppData\\Local\\Temp\\ipykernel_2588\\132772286.py\", line 5, in <module>\n",
      "    certs=ask_crt_sh(serial)\n",
      "          ^^^^^^^^^^^^^^^^^^\n",
      "  File \"C:\\Users\\admin\\AppData\\Local\\Temp\\ipykernel_2588\\2877236656.py\", line 5, in ask_crt_sh\n",
      "    cert_rows=bs.findAll('table')[2].findAll('tr')[1:]\n",
      "              ~~~~~~~~~~~~~~~~~~~^^^\n",
      "IndexError: list index out of range\n"
     ]
    },
    {
     "name": "stdout",
     "output_type": "stream",
     "text": [
      "http://ocsp.globalsign.com/ca/gstsacasha384g4/MFEwTzBNMEswSTAJBgUrDgMCGgUABBS2enBWzCNkWKN%2FFhoLZmlPnDczoAQU6hbGaefjy1dFOTOk8EC%2B0MO9ZZYCEAFIkD3CirynoRlNDBxXuCk%3D\n"
     ]
    },
    {
     "name": "stderr",
     "output_type": "stream",
     "text": [
      "Traceback (most recent call last):\n",
      "  File \"C:\\Users\\admin\\AppData\\Local\\Temp\\ipykernel_2588\\132772286.py\", line 5, in <module>\n",
      "    certs=ask_crt_sh(serial)\n",
      "          ^^^^^^^^^^^^^^^^^^\n",
      "  File \"C:\\Users\\admin\\AppData\\Local\\Temp\\ipykernel_2588\\2877236656.py\", line 5, in ask_crt_sh\n",
      "    cert_rows=bs.findAll('table')[2].findAll('tr')[1:]\n",
      "              ~~~~~~~~~~~~~~~~~~~^^^\n",
      "IndexError: list index out of range\n"
     ]
    },
    {
     "name": "stdout",
     "output_type": "stream",
     "text": [
      "http://ocsp.globalsign.com/ca/gstsacasha384g4/MFEwTzBNMEswSTAJBgUrDgMCGgUABBS2enBWzCNkWKN%2FFhoLZmlPnDczoAQU6hbGaefjy1dFOTOk8EC%2B0MO9ZZYCEAFIkD3CirynoRlNDBxXuCk%3D?Content-Type: application/ocsp-request\n",
      "https://crt.sh/?d=11321029551\n",
      "['store.steampowered.com', 'login.steampowered.com', 'partner.steampowered.com', 'underlords.com', 'partner.steamgames.com', 'support.steampowered.com', 'help.steampowered.com', 'steamcommunity.com', 'www.valvesoftware.com', 'store.steampowered.com,O=Valve Corp,L=Bellevue,ST=Washington,C=US,2.5.4.5=602 290 773,2.5.4.15=Private Organization,1.3.6.1.4.1.311.60.2.1.2=Washington,1.3.6.1.4.1.311.60.2.1.3=US', 'api.steampowered.com'] 465458657730A631153614A9C8DA2FA http://ocsp.digicert.com/MFEwTzBNMEswSTAJBgUrDgMCGgUABBRJ9L2KGL92BpjF3kAtaDtxauTmhgQUPdNQpdagre7zSmAKZdMh1Pj41g8CEARlRYZXcwpjEVNhSpyNovo%3D\n",
      "https://crt.sh/?d=8669060484\n",
      "['*.github.com', 'github.com', '*.github.com,O=GitHub\\\\, Inc.,L=San Francisco,ST=California,C=US'] B890537125F4510D6372A1028A929A5 http://ocsp.digicert.com/MFEwTzBNMEswSTAJBgUrDgMCGgUABBQrHR6YzPN2BNbByL0VoiTIBBMAOAQUCrwIKReMpTlteg7OM8cus%2B37w3oCEAuJBTcSX0UQ1jcqECipKaU%3D\n",
      "https://crt.sh/?d=8915848121\n",
      "https://crt.sh/?d=8653832737\n",
      "['github.com,O=GitHub\\\\, Inc.,L=San Francisco,ST=California,C=US', 'github.com', 'www.github.com'] CD0A8BEC632CFE645ECA0A9B084FB1C http://ocsp.digicert.com/MFEwTzBNMEswSTAJBgUrDgMCGgUABBQrHR6YzPN2BNbByL0VoiTIBBMAOAQUCrwIKReMpTlteg7OM8cus%2B37w3oCEAzQqL7GMs%2FmReygqbCE%2Bxw%3D\n",
      "['github.com,O=GitHub\\\\, Inc.,L=San Francisco,ST=California,C=US', 'github.com', 'www.github.com'] CD0A8BEC632CFE645ECA0A9B084FB1C http://ocsp.digicert.com/MFEwTzBNMEswSTAJBgUrDgMCGgUABBQrHR6YzPN2BNbByL0VoiTIBBMAOAQUCrwIKReMpTlteg7OM8cus%2B37w3oCEAzQqL7GMs%2FmReygqbCE%2Bxw%3D\n",
      "https://crt.sh/?d=11702133234\n",
      "['telemetry-stage.nvidia.com', '*.gx-stg.nvidia.com', 'gfe.nvidia.com,O=NVIDIA Corporation,L=Santa Clara,ST=California,C=US', '*.gfestage.nvidia.com', 'gfestage.nvidia.com', 'mobileupdate.nvidia.com', '*.gx-uat.nvidia.com', 'telemetry.nvidia.com', '*.gx.nvidia.com', 'mobileupdatestage.nvidia.com', '*.gfe.nvidia.com', 'gfe.nvidia.com'] B2CD20F3F1C052F4FA91946AFBC5E0F http://ocsp.digicert.com/MFEwTzBNMEswSTAJBgUrDgMCGgUABBSnxLiz3Fu1WB6n1%2FE6xWn1b0jXiQQUdIWAwGbH3zfez70pN6oDHb7tzRcCEAss0g8%2FHAUvT6kZRq%2B8Xg8%3D\n",
      "https://crt.sh/?d=9669426395\n",
      "['*.steamserver.net', '*.steamserver.net,O=Valve Corp.,L=Bellevue,ST=Washington,C=US'] D681C5EECB1E1FD23B7FD5E9C468D24 http://ocsp.digicert.com/MFEwTzBNMEswSTAJBgUrDgMCGgUABBSnxLiz3Fu1WB6n1%2FE6xWn1b0jXiQQUdIWAwGbH3zfez70pN6oDHb7tzRcCEA1oHF7sseH9I7f9XpxGjSQ%3D\n",
      "https://crt.sh/?d=9692478824\n",
      "['guestwifi.kpmg.com.sg,O=KPMG Services Pte Ltd,L=Singapore,C=SG', 'www.guestwifi.kpmg.com.sg', 'guestwifi.kpmg.com.sg'] 2C6F0DA7B67F730FF0A4D12689AEF9F http://ocsp.digicert.com/MFEwTzBNMEswSTAJBgUrDgMCGgUABBSnxLiz3Fu1WB6n1%2FE6xWn1b0jXiQQUdIWAwGbH3zfez70pN6oDHb7tzRcCEALG8Np7Z%2Fcw%2FwpNEmia758%3D\n",
      "https://crt.sh/?d=9692478824\n",
      "['guestwifi.kpmg.com.sg,O=KPMG Services Pte Ltd,L=Singapore,C=SG', 'www.guestwifi.kpmg.com.sg', 'guestwifi.kpmg.com.sg'] 2C6F0DA7B67F730FF0A4D12689AEF9F http://ocsp.digicert.com/MFEwTzBNMEswSTAJBgUrDgMCGgUABBSnxLiz3Fu1WB6n1%2FE6xWn1b0jXiQQUdIWAwGbH3zfez70pN6oDHb7tzRcCEALG8Np7Z%2Fcw%2FwpNEmia758%3D?Content-Type: application/ocsp-request\n"
     ]
    },
    {
     "name": "stderr",
     "output_type": "stream",
     "text": [
      "Traceback (most recent call last):\n",
      "  File \"C:\\Users\\admin\\AppData\\Local\\Temp\\ipykernel_2588\\132772286.py\", line 5, in <module>\n",
      "    certs=ask_crt_sh(serial)\n",
      "          ^^^^^^^^^^^^^^^^^^\n",
      "  File \"C:\\Users\\admin\\AppData\\Local\\Temp\\ipykernel_2588\\2877236656.py\", line 5, in ask_crt_sh\n",
      "    cert_rows=bs.findAll('table')[2].findAll('tr')[1:]\n",
      "              ~~~~~~~~~~~~~~~~~~~^^^\n",
      "IndexError: list index out of range\n"
     ]
    },
    {
     "name": "stdout",
     "output_type": "stream",
     "text": [
      "http://ocsp.digicert.com/MFEwTzBNMEswSTAJBgUrDgMCGgUABBSnR4FoxLLkI7vkvsUIFlZt%2BlGH3gQUWsS5eyoKo6XqcQPAYPkt9mV1DlgCEAwc0%2B6kft2noDJXOwFNCv0%3D\n"
     ]
    },
    {
     "name": "stderr",
     "output_type": "stream",
     "text": [
      "Traceback (most recent call last):\n",
      "  File \"C:\\Users\\admin\\AppData\\Local\\Temp\\ipykernel_2588\\132772286.py\", line 5, in <module>\n",
      "    certs=ask_crt_sh(serial)\n",
      "          ^^^^^^^^^^^^^^^^^^\n",
      "  File \"C:\\Users\\admin\\AppData\\Local\\Temp\\ipykernel_2588\\2877236656.py\", line 5, in ask_crt_sh\n",
      "    cert_rows=bs.findAll('table')[2].findAll('tr')[1:]\n",
      "              ~~~~~~~~~~~~~~~~~~~^^^\n",
      "IndexError: list index out of range\n"
     ]
    },
    {
     "name": "stdout",
     "output_type": "stream",
     "text": [
      "http://ocsp.digicert.com/MFEwTzBNMEswSTAJBgUrDgMCGgUABBSnR4FoxLLkI7vkvsUIFlZt%2BlGH3gQUWsS5eyoKo6XqcQPAYPkt9mV1DlgCEAq50xD7ISvojIGz0sLozlE%3D\n"
     ]
    },
    {
     "name": "stderr",
     "output_type": "stream",
     "text": [
      "Traceback (most recent call last):\n",
      "  File \"C:\\Users\\admin\\AppData\\Local\\Temp\\ipykernel_2588\\132772286.py\", line 5, in <module>\n",
      "    certs=ask_crt_sh(serial)\n",
      "          ^^^^^^^^^^^^^^^^^^\n",
      "  File \"C:\\Users\\admin\\AppData\\Local\\Temp\\ipykernel_2588\\2877236656.py\", line 5, in ask_crt_sh\n",
      "    cert_rows=bs.findAll('table')[2].findAll('tr')[1:]\n",
      "              ~~~~~~~~~~~~~~~~~~~^^^\n",
      "IndexError: list index out of range\n"
     ]
    },
    {
     "name": "stdout",
     "output_type": "stream",
     "text": [
      "http://ocsp.digicert.com/MFEwTzBNMEswSTAJBgUrDgMCGgUABBSnR4FoxLLkI7vkvsUIFlZt%2BlGH3gQUWsS5eyoKo6XqcQPAYPkt9mV1DlgCEAhY0Vt%2BnFBsVChM%2BVUU5rU%3D\n",
      "https://crt.sh/?d=7402423199\n",
      "['DigiCert Trusted Root G4,OU=www.digicert.com,O=DigiCert Inc,C=US'] E9B188EF9D02DE7EFDB50E20840185A http://ocsp.digicert.com/MFEwTzBNMEswSTAJBgUrDgMCGgUABBT3xL4LQLXDRDM9P665TW442vrsUQQUReuir%2FSSy4IxLVGLp6chnfNtyA8CEA6bGI750C3n79tQ4ghAGFo%3D\n",
      "https://crt.sh/?d=2392142533\n",
      "['Cloudflare Inc ECC CA-3,O=Cloudflare\\\\, Inc.,C=US'] A3787645E5FB48C224EFD1BED140C3C http://ocsp.digicert.com/MFEwTzBNMEswSTAJBgUrDgMCGgUABBTBL0V27RVZ7LBduom%2FnYB45SPUEwQU5Z1ZMIJHWMys%2BghUNoZ7OrUETfACEAo3h2ReX7SMIk79G%2B0UDDw%3D\n",
      "https://crt.sh/?d=7438425374\n",
      "['Amazon RSA 2048 M02,O=Amazon,C=US'] 773124A4BCBD44EC7B53BEAF194842D3A0FA1 http://ocsp.rootca1.amazontrust.com/MFQwUjBQME4wTDAJBgUrDgMCGgUABBRPWaOUU8%2B5VZ5%2Fa9jFTaU9pkK3FAQUhBjMhTTsvAyUlC4IWZzHshBOCggCEwdzEkpLy9ROx7U76vGUhC06D6E%3D\n",
      "https://crt.sh/?d=7438425386\n",
      "['Amazon RSA 2048 M03,O=Amazon,C=US'] 773124CD406D267C0991CDD299A9F38317985 http://ocsp.rootca1.amazontrust.com/MFQwUjBQME4wTDAJBgUrDgMCGgUABBRPWaOUU8%2B5VZ5%2Fa9jFTaU9pkK3FAQUhBjMhTTsvAyUlC4IWZzHshBOCggCEwdzEkzUBtJnwJkc3SmanzgxeYU%3D\n",
      "https://crt.sh/?d=7406820095\n",
      "['Amazon RSA 2048 M01,O=Amazon,C=US'] 77312380B9D6688A33B1ED9BF9CCDA68E0E0F http://ocsp.rootca1.amazontrust.com/MFQwUjBQME4wTDAJBgUrDgMCGgUABBRPWaOUU8%2B5VZ5%2Fa9jFTaU9pkK3FAQUhBjMhTTsvAyUlC4IWZzHshBOCggCEwdzEjgLnWaIozse2b%2BczaaODg8%3D\n",
      "https://crt.sh/?d=3163546037\n",
      "['Microsoft Azure TLS Issuing CA 02,O=Microsoft Corporation,C=US'] C6AE97CCED599838690A00A9EA53214 http://ocsp.digicert.com/MFEwTzBNMEswSTAJBgUrDgMCGgUABBQ50otx%2Fh0Ztl%2Bz8SiPI7wEWVxDlQQUTiJUIBiV5uNu5g%2F6%2BrkS7QYXjzkCEAxq6XzO1ZmDhpCgCp6lMhQ%3D\n",
      "https://crt.sh/?d=3163600408\n",
      "['Microsoft Azure TLS Issuing CA 05,O=Microsoft Corporation,C=US'] D7BEDE97D8209967A52631B8BDD18BD http://ocsp.digicert.com/MFEwTzBNMEswSTAJBgUrDgMCGgUABBQ50otx%2Fh0Ztl%2Bz8SiPI7wEWVxDlQQUTiJUIBiV5uNu5g%2F6%2BrkS7QYXjzkCEA177el9ggmWelJjG4vdGL0%3D\n",
      "https://crt.sh/?d=11418239284\n",
      "['app-updates.agilebits.com'] 3605D5322C8D4B303514C342033FEB0 http://ocsp.r2m03.amazontrust.com/MFEwTzBNMEswSTAJBgUrDgMCGgUABBQqHI%2BsdmapawQncL1rpCEZZ8gTSAQUVdkYX9IczAHhWLS%2Bq9lVQgHXLgICEANgXVMiyNSzA1FMNCAz%2FrA%3D\n",
      "https://crt.sh/?d=11935284925\n",
      "['cms.nvidia.com'] 327BB78ED22A16D98ECCD44FB962736 http://ocsp.r2m03.amazontrust.com/MFEwTzBNMEswSTAJBgUrDgMCGgUABBQqHI%2BsdmapawQncL1rpCEZZ8gTSAQUVdkYX9IczAHhWLS%2Bq9lVQgHXLgICEAMnu3jtIqFtmOzNRPuWJzY%3D\n"
     ]
    },
    {
     "name": "stderr",
     "output_type": "stream",
     "text": [
      "Traceback (most recent call last):\n",
      "  File \"C:\\Users\\admin\\AppData\\Local\\Temp\\ipykernel_2588\\132772286.py\", line 5, in <module>\n",
      "    certs=ask_crt_sh(serial)\n",
      "          ^^^^^^^^^^^^^^^^^^\n",
      "  File \"C:\\Users\\admin\\AppData\\Local\\Temp\\ipykernel_2588\\2877236656.py\", line 5, in ask_crt_sh\n",
      "    cert_rows=bs.findAll('table')[2].findAll('tr')[1:]\n",
      "              ~~~~~~~~~~~~~~~~~~~^^^\n",
      "IndexError: list index out of range\n"
     ]
    },
    {
     "name": "stdout",
     "output_type": "stream",
     "text": [
      "http://ocsp.digicert.com/MFEwTzBNMEswSTAJBgUrDgMCGgUABBSRXerF0eFeSWRripTgTkcJWMm7iQQUaDfg67Y7%2BF8Rhvv%2BYXsIiGX0TkICEA0aNA9419AA4In9uq1lIt8%3D\n"
     ]
    },
    {
     "name": "stderr",
     "output_type": "stream",
     "text": [
      "Traceback (most recent call last):\n",
      "  File \"C:\\Users\\admin\\AppData\\Local\\Temp\\ipykernel_2588\\132772286.py\", line 5, in <module>\n",
      "    certs=ask_crt_sh(serial)\n",
      "          ^^^^^^^^^^^^^^^^^^\n",
      "  File \"C:\\Users\\admin\\AppData\\Local\\Temp\\ipykernel_2588\\2877236656.py\", line 5, in ask_crt_sh\n",
      "    cert_rows=bs.findAll('table')[2].findAll('tr')[1:]\n",
      "              ~~~~~~~~~~~~~~~~~~~^^^\n",
      "IndexError: list index out of range\n"
     ]
    },
    {
     "name": "stdout",
     "output_type": "stream",
     "text": [
      "http://ocsp.digicert.com/MFEwTzBNMEswSTAJBgUrDgMCGgUABBSRXerF0eFeSWRripTgTkcJWMm7iQQUaDfg67Y7%2BF8Rhvv%2BYXsIiGX0TkICEA0dMaxvaITVHb3D4CLb0aw%3D\n"
     ]
    },
    {
     "name": "stderr",
     "output_type": "stream",
     "text": [
      "Traceback (most recent call last):\n",
      "  File \"C:\\Users\\admin\\AppData\\Local\\Temp\\ipykernel_2588\\132772286.py\", line 5, in <module>\n",
      "    certs=ask_crt_sh(serial)\n",
      "          ^^^^^^^^^^^^^^^^^^\n",
      "  File \"C:\\Users\\admin\\AppData\\Local\\Temp\\ipykernel_2588\\2877236656.py\", line 5, in ask_crt_sh\n",
      "    cert_rows=bs.findAll('table')[2].findAll('tr')[1:]\n",
      "              ~~~~~~~~~~~~~~~~~~~^^^\n",
      "IndexError: list index out of range\n"
     ]
    },
    {
     "name": "stdout",
     "output_type": "stream",
     "text": [
      "http://ocsp.digicert.com/MFEwTzBNMEswSTAJBgUrDgMCGgUABBSRXerF0eFeSWRripTgTkcJWMm7iQQUaDfg67Y7%2BF8Rhvv%2BYXsIiGX0TkICEARSlvj82CmnXclClPWkFaQ%3D\n"
     ]
    },
    {
     "name": "stderr",
     "output_type": "stream",
     "text": [
      "Traceback (most recent call last):\n",
      "  File \"C:\\Users\\admin\\AppData\\Local\\Temp\\ipykernel_2588\\132772286.py\", line 5, in <module>\n",
      "    certs=ask_crt_sh(serial)\n",
      "          ^^^^^^^^^^^^^^^^^^\n",
      "  File \"C:\\Users\\admin\\AppData\\Local\\Temp\\ipykernel_2588\\2877236656.py\", line 5, in ask_crt_sh\n",
      "    cert_rows=bs.findAll('table')[2].findAll('tr')[1:]\n",
      "              ~~~~~~~~~~~~~~~~~~~^^^\n",
      "IndexError: list index out of range\n"
     ]
    },
    {
     "name": "stdout",
     "output_type": "stream",
     "text": [
      "http://ocsp.pki.goog/gts1c3/MFIwUDBOMEwwSjAJBgUrDgMCGgUABBTHLnmK3f9hNLO67UdCuLvGwCQHYwQUinR%2Fr4XN7pXNPZzQ4kYU83E1HScCEQCSwCIy3ld2lwpvathizXtq\n"
     ]
    },
    {
     "name": "stderr",
     "output_type": "stream",
     "text": [
      "Traceback (most recent call last):\n",
      "  File \"C:\\Users\\admin\\AppData\\Local\\Temp\\ipykernel_2588\\132772286.py\", line 5, in <module>\n",
      "    certs=ask_crt_sh(serial)\n",
      "          ^^^^^^^^^^^^^^^^^^\n",
      "  File \"C:\\Users\\admin\\AppData\\Local\\Temp\\ipykernel_2588\\2877236656.py\", line 5, in ask_crt_sh\n",
      "    cert_rows=bs.findAll('table')[2].findAll('tr')[1:]\n",
      "              ~~~~~~~~~~~~~~~~~~~^^^\n",
      "IndexError: list index out of range\n"
     ]
    },
    {
     "name": "stdout",
     "output_type": "stream",
     "text": [
      "http://ocsp.sectigo.com/MFIwUDBOMEwwSjAJBgUrDgMCGgUABBQVD%2BnGf79Hpedv3mhy6uKMVZkPCQQUDyrLIIcouOxvSK4rVKYpqhekzQwCEQDZEa47RcSfFI%2ByzkDovgmH\n",
      "https://crt.sh/?d=11866366051\n",
      "https://crt.sh/?d=11866369702\n",
      "['media.steamcommunity.com', 'store.akamai.steamstatic.com', 'community.akamai.steamstatic.com', 'cdn.akamai.steamstatic.com', 'media.steampowered.com', 'cdn.steamstatic.com'] 42C15A9E5B82F7657550E669D31E6FCD60E http://r3.o.lencr.org/MFMwUTBPME0wSzAJBgUrDgMCGgUABBRI2smg%2ByvTLU%2Fw3mjS9We3NfmzxAQUFC6zF7dYVsuuUAlA5h%2BvnYsUwsYCEgQsFanluC92V1UOZp0x5vzWDg%3D%3D\n",
      "['media.steamcommunity.com', 'store.akamai.steamstatic.com', 'community.akamai.steamstatic.com', 'cdn.akamai.steamstatic.com', 'media.steampowered.com', 'cdn.steamstatic.com'] 42C15A9E5B82F7657550E669D31E6FCD60E http://r3.o.lencr.org/MFMwUTBPME0wSzAJBgUrDgMCGgUABBRI2smg%2ByvTLU%2Fw3mjS9We3NfmzxAQUFC6zF7dYVsuuUAlA5h%2BvnYsUwsYCEgQsFanluC92V1UOZp0x5vzWDg%3D%3D\n",
      "https://crt.sh/?d=11265962\n",
      "['Amazon Root CA 1,O=Amazon,C=US'] 67F944A2A27CDF3FAC2AE2B01F908EEB9C4C6 http://ocsp.rootg2.amazontrust.com/MFQwUjBQME4wTDAJBgUrDgMCGgUABBSIfaREXmfqfJR3TkMYnD7O5MhzEgQUnF8A36oB1zArOIiiuG1KnPIRkYMCEwZ%2FlEoqJ83z%2BsKuKwH5CO65xMY%3D\n",
      "https://crt.sh/?d=4452807612\n",
      "['DigiCert Trusted G4 Code Signing RSA4096 SHA384 2021 CA1,O=DigiCert\\\\, Inc.,C=US'] 8AD40B260D29C4C9F5ECDA9BD93AED9 http://ocsp.digicert.com/MFEwTzBNMEswSTAJBgUrDgMCGgUABBTfIs%2BLjDtGwQ09XEB1Yeq%2BtX%2BBgQQU7NfjgtJxXWRM3y5nP%2Be6mK4cD08CEAitQLJg0pxMn17Nqb2Trtk%3D\n",
      "https://crt.sh/?d=9644227522\n",
      "['telemetry.1passwordservices.com'] 5867AE09699A51CDCA3C5477BFBD29C http://ocsp.r2m01.amazontrust.com/MFEwTzBNMEswSTAJBgUrDgMCGgUABBShdVEFnSEQ0gG5CBtzM48cPMe9XwQUgbgOY4qJEhjl%2Bjs7UJWf5uWQE4UCEAWGeuCWmaUc3KPFR3v70pw%3D\n",
      "https://crt.sh/?d=9097827526\n",
      "['login.nvidia.com', 'ap-northeast-1.login.nvidia.com'] BA46E6BADDB29888E6D80537B1C31D3 http://ocsp.r2m01.amazontrust.com/MFEwTzBNMEswSTAJBgUrDgMCGgUABBShdVEFnSEQ0gG5CBtzM48cPMe9XwQUgbgOY4qJEhjl%2Bjs7UJWf5uWQE4UCEAukbmut2ymIjm2AU3scMdM%3D\n"
     ]
    },
    {
     "name": "stderr",
     "output_type": "stream",
     "text": [
      "Traceback (most recent call last):\n",
      "  File \"C:\\Users\\admin\\AppData\\Local\\Temp\\ipykernel_2588\\132772286.py\", line 5, in <module>\n",
      "    certs=ask_crt_sh(serial)\n",
      "          ^^^^^^^^^^^^^^^^^^\n",
      "  File \"C:\\Users\\admin\\AppData\\Local\\Temp\\ipykernel_2588\\2877236656.py\", line 5, in ask_crt_sh\n",
      "    cert_rows=bs.findAll('table')[2].findAll('tr')[1:]\n",
      "              ~~~~~~~~~~~~~~~~~~~^^^\n",
      "IndexError: list index out of range\n"
     ]
    },
    {
     "name": "stdout",
     "output_type": "stream",
     "text": [
      "http://ocsp.sectigo.com/MFEwTzBNMEswSTAJBgUrDgMCGgUABBQ5suEceKjAJbxseAmHFkQ9FrhTWQQUDuE6qFM6MdWKvsG7rWcaA4WtNA4CEBfb2arwu%2Fmyb20Ga%2FXRRWA%3D\n",
      "https://crt.sh/?d=9633426659\n",
      "['Microsoft Azure RSA TLS Issuing CA 04,O=Microsoft Corporation,C=US'] 9F96EC295555F24749EAF1E5DCED49D http://ocsp.digicert.com/MFEwTzBNMEswSTAJBgUrDgMCGgUABBQ50otx%2Fh0Ztl%2Bz8SiPI7wEWVxDlQQUTiJUIBiV5uNu5g%2F6%2BrkS7QYXjzkCEAn5bsKVVV8kdJ6vHl3O1J0%3D\n",
      "https://crt.sh/?d=4304297828\n",
      "['DigiCert Global G2 TLS RSA SHA256 2020 CA1,O=DigiCert Inc,C=US'] CF5BD062B5602F47AB8502C23CCF066 http://ocsp.digicert.com/MFEwTzBNMEswSTAJBgUrDgMCGgUABBQ50otx%2Fh0Ztl%2Bz8SiPI7wEWVxDlQQUTiJUIBiV5uNu5g%2F6%2BrkS7QYXjzkCEAz1vQYrVgL0erhQLCPM8GY%3D?Content-Type: application/ocsp-request\n",
      "https://crt.sh/?d=9633426800\n",
      "['Microsoft Azure RSA TLS Issuing CA 03,O=Microsoft Corporation,C=US'] 5196526449A5E3D1A38748F5DCFEBCC http://ocsp.digicert.com/MFEwTzBNMEswSTAJBgUrDgMCGgUABBQ50otx%2Fh0Ztl%2Bz8SiPI7wEWVxDlQQUTiJUIBiV5uNu5g%2F6%2BrkS7QYXjzkCEAUZZSZEml49Gjh0j13P68w%3D\n",
      "https://crt.sh/?d=4304297828\n",
      "['DigiCert Global G2 TLS RSA SHA256 2020 CA1,O=DigiCert Inc,C=US'] CF5BD062B5602F47AB8502C23CCF066 http://ocsp.digicert.com/MFEwTzBNMEswSTAJBgUrDgMCGgUABBQ50otx%2Fh0Ztl%2Bz8SiPI7wEWVxDlQQUTiJUIBiV5uNu5g%2F6%2BrkS7QYXjzkCEAz1vQYrVgL0erhQLCPM8GY%3D\n",
      "https://crt.sh/?d=9633426878\n",
      "['Microsoft Azure RSA TLS Issuing CA 08,O=Microsoft Corporation,C=US'] EFB7E547EDF0FF1069AEE57696D7BA0 http://ocsp.digicert.com/MFEwTzBNMEswSTAJBgUrDgMCGgUABBQ50otx%2Fh0Ztl%2Bz8SiPI7wEWVxDlQQUTiJUIBiV5uNu5g%2F6%2BrkS7QYXjzkCEA77flR%2B3w%2FxBpruV2lte6A%3D\n",
      "https://crt.sh/?d=9633426711\n",
      "['Microsoft Azure RSA TLS Issuing CA 07,O=Microsoft Corporation,C=US'] A43A9509B01352F899579EC7208BA50 http://ocsp.digicert.com/MFEwTzBNMEswSTAJBgUrDgMCGgUABBQ50otx%2Fh0Ztl%2Bz8SiPI7wEWVxDlQQUTiJUIBiV5uNu5g%2F6%2BrkS7QYXjzkCEApDqVCbATUviZV57HIIulA%3D\n",
      "https://crt.sh/?d=11139711280\n",
      "['incoming.telemetry.mozilla.org,O=Mozilla Corporation,L=San Francisco,ST=California,C=US', 'incoming.telemetry.mozilla.org'] 1E0638B9ADF9C429B90A46EB9860606 http://ocsp.digicert.com/MFEwTzBNMEswSTAJBgUrDgMCGgUABBTk45WiKdPUwcMf8JgMC07ACYqr2AQUt2ui6qiqhIx56rTaD5iyxZV2ufQCEAHgY4ua35xCm5CkbrmGBgY%3D\n",
      "https://crt.sh/?d=9581760217\n",
      "https://crt.sh/?d=9404013834\n",
      "['*.akamaihd-staging.net', '*.akamaihd.net', 'a248.e.akamai.net,O=Akamai Technologies\\\\, Inc.,L=Cambridge,ST=Massachusetts,C=US', 'a248.e.akamai.net', '*.akamaized-staging.net', '*.akamaized.net'] D61F7742D583251A2B8D5A26A1DDA0B http://ocsp.digicert.com/MFEwTzBNMEswSTAJBgUrDgMCGgUABBTk45WiKdPUwcMf8JgMC07ACYqr2AQUt2ui6qiqhIx56rTaD5iyxZV2ufQCEA1h93QtWDJRorjVomod2gs%3D\n",
      "['*.akamaihd-staging.net', '*.akamaihd.net', 'a248.e.akamai.net,O=Akamai Technologies\\\\, Inc.,L=Cambridge,ST=Massachusetts,C=US', 'a248.e.akamai.net', '*.akamaized-staging.net', '*.akamaized.net'] D61F7742D583251A2B8D5A26A1DDA0B http://ocsp.digicert.com/MFEwTzBNMEswSTAJBgUrDgMCGgUABBTk45WiKdPUwcMf8JgMC07ACYqr2AQUt2ui6qiqhIx56rTaD5iyxZV2ufQCEA1h93QtWDJRorjVomod2gs%3D\n"
     ]
    },
    {
     "name": "stderr",
     "output_type": "stream",
     "text": [
      "Traceback (most recent call last):\n",
      "  File \"C:\\Users\\admin\\AppData\\Local\\Temp\\ipykernel_2588\\132772286.py\", line 5, in <module>\n",
      "    certs=ask_crt_sh(serial)\n",
      "          ^^^^^^^^^^^^^^^^^^\n",
      "  File \"C:\\Users\\admin\\AppData\\Local\\Temp\\ipykernel_2588\\2877236656.py\", line 5, in ask_crt_sh\n",
      "    cert_rows=bs.findAll('table')[2].findAll('tr')[1:]\n",
      "              ~~~~~~~~~~~~~~~~~~~^^^\n",
      "IndexError: list index out of range\n"
     ]
    },
    {
     "name": "stdout",
     "output_type": "stream",
     "text": [
      "http://ocsp.pki.goog/gts1c3/MFIwUDBOMEwwSjAJBgUrDgMCGgUABBTHLnmK3f9hNLO67UdCuLvGwCQHYwQUinR%2Fr4XN7pXNPZzQ4kYU83E1HScCEQDDidhelLJLaQnsKqlsZYpa\n",
      "https://crt.sh/?d=11686944976\n",
      "['pubsub.googleapis.com', 'dataflow.googleapis.com', 'edgecert.googleapis.com', 'monitoring.googleapis.com', 'servicecontrol.googleapis.com', 'bigtable.googleapis.com', 'datastore.googleapis.com', 'android.googleapis.com', 'cloudtrace.googleapis.com', 'fcm.googleapis.com', 'logging.googleapis.com', 'stackdriver.googleapis.com', 'spanner.googleapis.com', 'runtimeconfig.googleapis.com', 'firestore.googleapis.com', 'dlp.googleapis.com', 'clouderrorreporting.googleapis.com', 'container.googleapis.com'] 41558EC630096910ABA2B7362E3B8FD http://ocsp.pki.goog/gts1c3/MFEwTzBNMEswSTAJBgUrDgMCGgUABBTHLnmK3f9hNLO67UdCuLvGwCQHYwQUinR%2Fr4XN7pXNPZzQ4kYU83E1HScCEAQVWOxjAJaRCrorc2LjuP0%3D\n"
     ]
    },
    {
     "name": "stderr",
     "output_type": "stream",
     "text": [
      "Traceback (most recent call last):\n",
      "  File \"C:\\Users\\admin\\AppData\\Local\\Temp\\ipykernel_2588\\132772286.py\", line 5, in <module>\n",
      "    certs=ask_crt_sh(serial)\n",
      "          ^^^^^^^^^^^^^^^^^^\n",
      "  File \"C:\\Users\\admin\\AppData\\Local\\Temp\\ipykernel_2588\\2877236656.py\", line 5, in ask_crt_sh\n",
      "    cert_rows=bs.findAll('table')[2].findAll('tr')[1:]\n",
      "              ~~~~~~~~~~~~~~~~~~~^^^\n",
      "IndexError: list index out of range\n"
     ]
    },
    {
     "name": "stdout",
     "output_type": "stream",
     "text": [
      "http://ocsp.pki.goog/gts1c3/MFIwUDBOMEwwSjAJBgUrDgMCGgUABBTHLnmK3f9hNLO67UdCuLvGwCQHYwQUinR%2Fr4XN7pXNPZzQ4kYU83E1HScCEQCw14DGj8KB%2FwqJau317vru\n",
      "https://crt.sh/?d=3232541597\n",
      "['Microsoft Azure ECC TLS Issuing CA 02,O=Microsoft Corporation,C=US'] E8DBE5EA610E6CBB569C736F6D7004B http://ocsp.digicert.com/MFEwTzBNMEswSTAJBgUrDgMCGgUABBTrjrydRyt%2BApF3GSPypfHBxR5XtQQUs9tIpPmhxdiuNkHMEWNpYim8S8YCEA6Nvl6mEObLtWnHNvbXAEs%3D\n",
      "https://crt.sh/?d=3232541594\n",
      "['Microsoft Azure ECC TLS Issuing CA 05,O=Microsoft Corporation,C=US'] CE59C30FD7A83532E2D0146B332F965 http://ocsp.digicert.com/MFEwTzBNMEswSTAJBgUrDgMCGgUABBTrjrydRyt%2BApF3GSPypfHBxR5XtQQUs9tIpPmhxdiuNkHMEWNpYim8S8YCEAzlnDD9eoNTLi0BRrMy%2BWU%3D\n",
      "https://crt.sh/?d=12088997114\n",
      "https://crt.sh/?d=12088990336\n",
      "['cache8-sgp1.steamcontent.com'] 4C6984A1405ECFACA4E8D93A4C7BEC2469D http://r3.o.lencr.org/MFMwUTBPME0wSzAJBgUrDgMCGgUABBRI2smg%2ByvTLU%2Fw3mjS9We3NfmzxAQUFC6zF7dYVsuuUAlA5h%2BvnYsUwsYCEgTGmEoUBez6yk6Nk6THvsJGnQ%3D%3D\n",
      "['cache8-sgp1.steamcontent.com'] 4C6984A1405ECFACA4E8D93A4C7BEC2469D http://r3.o.lencr.org/MFMwUTBPME0wSzAJBgUrDgMCGgUABBRI2smg%2ByvTLU%2Fw3mjS9We3NfmzxAQUFC6zF7dYVsuuUAlA5h%2BvnYsUwsYCEgTGmEoUBez6yk6Nk6THvsJGnQ%3D%3D\n",
      "https://crt.sh/?d=2911299\n",
      "['DigiCert SHA2 Extended Validation Server CA,OU=www.digicert.com,O=DigiCert Inc,C=US'] C79A944B08C11952092615FE26B1D83 http://ocsp.digicert.com/MFEwTzBNMEswSTAJBgUrDgMCGgUABBTfqhLjKLEJQZPin0KCzkdAQpVYowQUsT7DaQP4v0cB1JgmGggC72NkK8MCEAx5qUSwjBGVIJJhX%2BJrHYM%3D\n",
      "https://crt.sh/?d=11923049629\n",
      "https://crt.sh/?d=11923042824\n",
      "['updates.logitech.com'] 32B3777368C2F7A375CFBC04362E08A69EC http://r3.o.lencr.org/MFMwUTBPME0wSzAJBgUrDgMCGgUABBRI2smg%2ByvTLU%2Fw3mjS9We3NfmzxAQUFC6zF7dYVsuuUAlA5h%2BvnYsUwsYCEgMrN3c2jC96N1z7wENi4Ipp7A%3D%3D\n",
      "['updates.logitech.com'] 32B3777368C2F7A375CFBC04362E08A69EC http://r3.o.lencr.org/MFMwUTBPME0wSzAJBgUrDgMCGgUABBRI2smg%2ByvTLU%2Fw3mjS9We3NfmzxAQUFC6zF7dYVsuuUAlA5h%2BvnYsUwsYCEgMrN3c2jC96N1z7wENi4Ipp7A%3D%3D\n",
      "https://crt.sh/?d=10175725500\n",
      "https://crt.sh/?d=9729962239\n",
      "['*.1password.com', '1password.com'] 53616F7CFDD78532A47180B7EF6491F http://ocsp.r2m02.amazontrust.com/MFEwTzBNMEswSTAJBgUrDgMCGgUABBRmbQtwnInkvkvr7BNFR%2BS2lTYPjAQUwDFSzVpQw4J8dHHOy%2Bmc%2BXrrguICEAU2FvfP3XhTKkcYC372SR8%3D\n",
      "['*.1password.com', '1password.com'] 53616F7CFDD78532A47180B7EF6491F http://ocsp.r2m02.amazontrust.com/MFEwTzBNMEswSTAJBgUrDgMCGgUABBRmbQtwnInkvkvr7BNFR%2BS2lTYPjAQUwDFSzVpQw4J8dHHOy%2Bmc%2BXrrguICEAU2FvfP3XhTKkcYC372SR8%3D\n",
      "https://crt.sh/?d=10041335680\n",
      "['pns.geforcenow.com', 'ap-northeast-1.pns.geforcenow.com'] EA3DA7562AB764BD3FCF69EC3F337A3 http://ocsp.r2m02.amazontrust.com/MFEwTzBNMEswSTAJBgUrDgMCGgUABBRmbQtwnInkvkvr7BNFR%2BS2lTYPjAQUwDFSzVpQw4J8dHHOy%2Bmc%2BXrrguICEA6j2nViq3ZL0%2Fz2nsPzN6M%3D\n",
      "https://crt.sh/?d=9088129197\n",
      "['*.otel.kaizen.nvidia.com'] 5844BEB9A23CDBC344DFCDF23AC49C1 http://ocsp.r2m02.amazontrust.com/MFEwTzBNMEswSTAJBgUrDgMCGgUABBRmbQtwnInkvkvr7BNFR%2BS2lTYPjAQUwDFSzVpQw4J8dHHOy%2Bmc%2BXrrguICEAWES%2BuaI828NE383yOsScE%3D\n",
      "https://crt.sh/?d=12185568860\n",
      "https://crt.sh/?d=12185567139\n",
      "['cache1-sgp1.steamcontent.com'] 349CAC261DE48DA54F81C5C20C750D356B0 http://r3.o.lencr.org/MFMwUTBPME0wSzAJBgUrDgMCGgUABBRI2smg%2ByvTLU%2Fw3mjS9We3NfmzxAQUFC6zF7dYVsuuUAlA5h%2BvnYsUwsYCEgNJysJh3kjaVPgcXCDHUNNWsA%3D%3D\n",
      "['cache1-sgp1.steamcontent.com'] 349CAC261DE48DA54F81C5C20C750D356B0 http://r3.o.lencr.org/MFMwUTBPME0wSzAJBgUrDgMCGgUABBRI2smg%2ByvTLU%2Fw3mjS9We3NfmzxAQUFC6zF7dYVsuuUAlA5h%2BvnYsUwsYCEgNJysJh3kjaVPgcXCDHUNNWsA%3D%3D\n",
      "https://crt.sh/?d=1344582284\n",
      "['SSL.com EV Code Signing Intermediate CA RSA R3,O=SSL Corp,L=Houston,ST=Texas,C=US'] 424B6A53CEC766141C2A63B1A51C4104 http://ocsps.ssl.com/MFEwTzBNMEswSTAJBgUrDgMCGgUABBQg3SSkKA74hABkhmlBtJTz8w3hlAQU%2BWC71OPVNPa49QaAJadz20ZpqJ4CEEJLalPOx2YUHCpjsaUcQQQ%3D\n"
     ]
    }
   ],
   "source": [
    "import traceback\n",
    "for u in urls:\n",
    "    try:\n",
    "        serial=get_serial_from_url(u)\n",
    "        certs=ask_crt_sh(serial)\n",
    "        for c in certs:\n",
    "            print(get_names_from_cert(c),serial,u)\n",
    "    except Exception as e:\n",
    "        traceback.print_exc()\n",
    "        print(u)\n",
    "\n",
    "\n",
    "# cert=parsex509cn()"
   ]
  },
  {
   "cell_type": "code",
   "execution_count": 16,
   "metadata": {},
   "outputs": [],
   "source": []
  },
  {
   "cell_type": "code",
   "execution_count": 17,
   "metadata": {},
   "outputs": [
    {
     "name": "stdout",
     "output_type": "stream",
     "text": [
      "['1password.com', 'www.1password.com']\n"
     ]
    }
   ],
   "source": [
    "print(get_subject_names(cert))\n"
   ]
  },
  {
   "cell_type": "code",
   "execution_count": 41,
   "metadata": {},
   "outputs": [
    {
     "name": "stdout",
     "output_type": "stream",
     "text": [
      "https://crt.sh/?d=12011453729\n",
      "https://crt.sh/?d=12011453260\n",
      "<Certificate(subject=<Name(CN=1password.com)>, ...)>\n",
      "['1password.com', 'www.1password.com']\n",
      "<Certificate(subject=<Name(CN=1password.com)>, ...)>\n",
      "['1password.com', 'www.1password.com']\n"
     ]
    }
   ],
   "source": [
    "for p in ask_crt_sh('4BB81D3BBC027D2B293A0B9EB1A813E6247'):\n",
    "    print(p)\n",
    "    print(get_names_from_cert(p))"
   ]
  },
  {
   "cell_type": "code",
   "execution_count": 25,
   "metadata": {},
   "outputs": [],
   "source": [
    "out=subprocess.run('certutil -urlcache',shell=True,universal_newlines=True,capture_output=True)\n",
    "urls=[x for x in out.stdout.split(\"\\n\\n\") if \"/MF\" in x and x.startswith('http')]"
   ]
  },
  {
   "cell_type": "code",
   "execution_count": null,
   "metadata": {},
   "outputs": [],
   "source": []
  }
 ],
 "metadata": {
  "kernelspec": {
   "display_name": "Python 3.12.0 64-bit",
   "language": "python",
   "name": "python3"
  },
  "language_info": {
   "codemirror_mode": {
    "name": "ipython",
    "version": 3
   },
   "file_extension": ".py",
   "mimetype": "text/x-python",
   "name": "python",
   "nbconvert_exporter": "python",
   "pygments_lexer": "ipython3",
   "version": "3.12.0"
  },
  "orig_nbformat": 4,
  "vscode": {
   "interpreter": {
    "hash": "3fcbd7240ee8f908d933dc7f71e8c42a1a91163b70ede8dcff5146d4087436c7"
   }
  }
 },
 "nbformat": 4,
 "nbformat_minor": 2
}
